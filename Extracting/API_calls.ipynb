{
 "cells": [
  {
   "cell_type": "code",
   "execution_count": 1,
   "id": "ae371054",
   "metadata": {},
   "outputs": [],
   "source": [
    "import pandas as pd\n",
    "import os\n",
    "import json\n",
    "import tmdbsimple as tmdb\n",
    "from tqdm.notebook import tqdm_notebook"
   ]
  },
  {
   "cell_type": "code",
   "execution_count": 2,
   "id": "561700e9",
   "metadata": {},
   "outputs": [],
   "source": [
    "def write_json(new_data, file_name):\n",
    "    \"\"\"Adapted from: https://www.geeksforgeeks.org/append/-to-json-file-using-python/\"\"\"\n",
    "    with open(file_name, \"r+\") as file:\n",
    "        file_data = json.load(file)\n",
    "        \n",
    "        if (type(new_data) == list) & (type(file_data) == list):\n",
    "            file_data.extend(new_data)\n",
    "        else:\n",
    "            file_data.append(new_data)\n",
    "        file.seek(0)\n",
    "        \n",
    "        json.dump(file_data, file)"
   ]
  },
  {
   "cell_type": "code",
   "execution_count": 6,
   "id": "87ede69a",
   "metadata": {},
   "outputs": [],
   "source": [
    "def get_movie_with_rating(movie_id):\n",
    "    movie = tmdb.Movies(movie_id)\n",
    "    movie_info = movie.info()\n",
    "    releases = movie.releases()\n",
    "\n",
    "    for c in releases[\"countries\"]:\n",
    "        if c[\"iso_3166_1\"] == \"US\":\n",
    "            movie_info[\"certification\"] = c[\"certification\"]\n",
    "    return movie_info"
   ]
  },
  {
   "cell_type": "code",
   "execution_count": 7,
   "id": "c1edf722",
   "metadata": {},
   "outputs": [
    {
     "data": {
      "text/plain": [
       "['.ipynb_checkpoints',\n",
       " 'title_akas.csv.gz',\n",
       " 'title_basics.csv.gz',\n",
       " 'title_ratings.csv.gz']"
      ]
     },
     "execution_count": 7,
     "metadata": {},
     "output_type": "execute_result"
    }
   ],
   "source": [
    "folder = \"Data/\"\n",
    "os.makedirs(folder, exist_ok=True)\n",
    "os.listdir(folder)"
   ]
  },
  {
   "cell_type": "code",
   "execution_count": 25,
   "id": "6b4327fe",
   "metadata": {},
   "outputs": [],
   "source": [
    "YEARS_TO_GET = list(range(2000, 2023))"
   ]
  },
  {
   "cell_type": "code",
   "execution_count": 26,
   "id": "e94fb9c3",
   "metadata": {},
   "outputs": [
    {
     "data": {
      "text/plain": [
       "[2000,\n",
       " 2001,\n",
       " 2002,\n",
       " 2003,\n",
       " 2004,\n",
       " 2005,\n",
       " 2006,\n",
       " 2007,\n",
       " 2008,\n",
       " 2009,\n",
       " 2010,\n",
       " 2011,\n",
       " 2012,\n",
       " 2013,\n",
       " 2014,\n",
       " 2015,\n",
       " 2016,\n",
       " 2017,\n",
       " 2018,\n",
       " 2019,\n",
       " 2020,\n",
       " 2021,\n",
       " 2022]"
      ]
     },
     "execution_count": 26,
     "metadata": {},
     "output_type": "execute_result"
    }
   ],
   "source": [
    "YEARS_TO_GET"
   ]
  },
  {
   "cell_type": "code",
   "execution_count": 27,
   "id": "2e9ecef9",
   "metadata": {},
   "outputs": [
    {
     "data": {
      "text/plain": [
       "dict_keys(['api_key'])"
      ]
     },
     "execution_count": 27,
     "metadata": {},
     "output_type": "execute_result"
    }
   ],
   "source": [
    "with open(\"c:/Users/oscar/.secret/tmdb_api.json\") as f:\n",
    "    login = json.load(f)\n",
    "login.keys()"
   ]
  },
  {
   "cell_type": "code",
   "execution_count": 28,
   "id": "735d0491",
   "metadata": {},
   "outputs": [],
   "source": [
    "tmdb.API_KEY = login[\"api_key\"]"
   ]
  },
  {
   "cell_type": "code",
   "execution_count": 29,
   "id": "09c94e77",
   "metadata": {},
   "outputs": [
    {
     "data": {
      "application/vnd.jupyter.widget-view+json": {
       "model_id": "8849676851ce4a598405c7d047ffcf57",
       "version_major": 2,
       "version_minor": 0
      },
      "text/plain": [
       "YEARS:   0%|          | 0/23 [00:00<?, ?it/s]"
      ]
     },
     "metadata": {},
     "output_type": "display_data"
    },
    {
     "name": "stdout",
     "output_type": "stream",
     "text": [
      "Data/tmdb_api_results2000.json already exist!\n"
     ]
    },
    {
     "data": {
      "application/vnd.jupyter.widget-view+json": {
       "model_id": "eaf5469462144186b9341fa8b022160c",
       "version_major": 2,
       "version_minor": 0
      },
      "text/plain": [
       "Movies from 2000:   0%|          | 0/207 [00:00<?, ?it/s]"
      ]
     },
     "metadata": {},
     "output_type": "display_data"
    },
    {
     "name": "stdout",
     "output_type": "stream",
     "text": [
      "Data/tmdb_api_results2001.json already exist!\n"
     ]
    },
    {
     "data": {
      "application/vnd.jupyter.widget-view+json": {
       "model_id": "56b434f04b004d25a59089b9bb13401f",
       "version_major": 2,
       "version_minor": 0
      },
      "text/plain": [
       "Movies from 2001:   0%|          | 0/241 [00:00<?, ?it/s]"
      ]
     },
     "metadata": {},
     "output_type": "display_data"
    },
    {
     "name": "stdout",
     "output_type": "stream",
     "text": [
      "Creating Data/tmdb_api_results2002.json with imdb_id:0\n"
     ]
    },
    {
     "data": {
      "application/vnd.jupyter.widget-view+json": {
       "model_id": "5053806b8f7f4c7fa4a9b380ad12f479",
       "version_major": 2,
       "version_minor": 0
      },
      "text/plain": [
       "Movies from 2002:   0%|          | 0/1504 [00:00<?, ?it/s]"
      ]
     },
     "metadata": {},
     "output_type": "display_data"
    },
    {
     "name": "stdout",
     "output_type": "stream",
     "text": [
      "Creating Data/tmdb_api_results2003.json with imdb_id:0\n"
     ]
    },
    {
     "data": {
      "application/vnd.jupyter.widget-view+json": {
       "model_id": "397070093ee942b1819f83b4b9a39482",
       "version_major": 2,
       "version_minor": 0
      },
      "text/plain": [
       "Movies from 2003:   0%|          | 0/1631 [00:00<?, ?it/s]"
      ]
     },
     "metadata": {},
     "output_type": "display_data"
    },
    {
     "name": "stdout",
     "output_type": "stream",
     "text": [
      "Creating Data/tmdb_api_results2004.json with imdb_id:0\n"
     ]
    },
    {
     "data": {
      "application/vnd.jupyter.widget-view+json": {
       "model_id": "33e35f5da9894b47a08e20bd1b49e84c",
       "version_major": 2,
       "version_minor": 0
      },
      "text/plain": [
       "Movies from 2004:   0%|          | 0/1833 [00:00<?, ?it/s]"
      ]
     },
     "metadata": {},
     "output_type": "display_data"
    },
    {
     "name": "stdout",
     "output_type": "stream",
     "text": [
      "Creating Data/tmdb_api_results2005.json with imdb_id:0\n"
     ]
    },
    {
     "data": {
      "application/vnd.jupyter.widget-view+json": {
       "model_id": "78dfc413b3124153a95ffca8735fc62e",
       "version_major": 2,
       "version_minor": 0
      },
      "text/plain": [
       "Movies from 2005:   0%|          | 0/2124 [00:00<?, ?it/s]"
      ]
     },
     "metadata": {},
     "output_type": "display_data"
    },
    {
     "name": "stdout",
     "output_type": "stream",
     "text": [
      "Creating Data/tmdb_api_results2006.json with imdb_id:0\n"
     ]
    },
    {
     "data": {
      "application/vnd.jupyter.widget-view+json": {
       "model_id": "9f1496b0200541368b7596a5db960b72",
       "version_major": 2,
       "version_minor": 0
      },
      "text/plain": [
       "Movies from 2006:   0%|          | 0/2347 [00:00<?, ?it/s]"
      ]
     },
     "metadata": {},
     "output_type": "display_data"
    },
    {
     "name": "stdout",
     "output_type": "stream",
     "text": [
      "Creating Data/tmdb_api_results2007.json with imdb_id:0\n"
     ]
    },
    {
     "data": {
      "application/vnd.jupyter.widget-view+json": {
       "model_id": "1ff825c38f514b1f9d937d62c2c96f15",
       "version_major": 2,
       "version_minor": 0
      },
      "text/plain": [
       "Movies from 2007:   0%|          | 0/2483 [00:00<?, ?it/s]"
      ]
     },
     "metadata": {},
     "output_type": "display_data"
    },
    {
     "name": "stdout",
     "output_type": "stream",
     "text": [
      "Creating Data/tmdb_api_results2008.json with imdb_id:0\n"
     ]
    },
    {
     "data": {
      "application/vnd.jupyter.widget-view+json": {
       "model_id": "ba599b57bd2a4842b391fbb8683aa155",
       "version_major": 2,
       "version_minor": 0
      },
      "text/plain": [
       "Movies from 2008:   0%|          | 0/2824 [00:00<?, ?it/s]"
      ]
     },
     "metadata": {},
     "output_type": "display_data"
    },
    {
     "name": "stdout",
     "output_type": "stream",
     "text": [
      "Creating Data/tmdb_api_results2009.json with imdb_id:0\n"
     ]
    },
    {
     "data": {
      "application/vnd.jupyter.widget-view+json": {
       "model_id": "5142e6169b6247cdb1a5e729a7af6f8d",
       "version_major": 2,
       "version_minor": 0
      },
      "text/plain": [
       "Movies from 2009:   0%|          | 0/3451 [00:00<?, ?it/s]"
      ]
     },
     "metadata": {},
     "output_type": "display_data"
    },
    {
     "name": "stdout",
     "output_type": "stream",
     "text": [
      "Creating Data/tmdb_api_results2010.json with imdb_id:0\n"
     ]
    },
    {
     "data": {
      "application/vnd.jupyter.widget-view+json": {
       "model_id": "94d8699decb7413b8e1ec41e27ce1615",
       "version_major": 2,
       "version_minor": 0
      },
      "text/plain": [
       "Movies from 2010:   0%|          | 0/3749 [00:00<?, ?it/s]"
      ]
     },
     "metadata": {},
     "output_type": "display_data"
    },
    {
     "name": "stdout",
     "output_type": "stream",
     "text": [
      "Creating Data/tmdb_api_results2011.json with imdb_id:0\n"
     ]
    },
    {
     "data": {
      "application/vnd.jupyter.widget-view+json": {
       "model_id": "4dd5ea8fc04042119c26f1936874f678",
       "version_major": 2,
       "version_minor": 0
      },
      "text/plain": [
       "Movies from 2011:   0%|          | 0/4143 [00:00<?, ?it/s]"
      ]
     },
     "metadata": {},
     "output_type": "display_data"
    },
    {
     "name": "stdout",
     "output_type": "stream",
     "text": [
      "Creating Data/tmdb_api_results2012.json with imdb_id:0\n"
     ]
    },
    {
     "data": {
      "application/vnd.jupyter.widget-view+json": {
       "model_id": "234bea50f87747d59cfd60c99ebade07",
       "version_major": 2,
       "version_minor": 0
      },
      "text/plain": [
       "Movies from 2012:   0%|          | 0/4425 [00:00<?, ?it/s]"
      ]
     },
     "metadata": {},
     "output_type": "display_data"
    },
    {
     "name": "stdout",
     "output_type": "stream",
     "text": [
      "Creating Data/tmdb_api_results2013.json with imdb_id:0\n"
     ]
    },
    {
     "data": {
      "application/vnd.jupyter.widget-view+json": {
       "model_id": "7e38840582a540688f76bd95062f8d15",
       "version_major": 2,
       "version_minor": 0
      },
      "text/plain": [
       "Movies from 2013:   0%|          | 0/4621 [00:00<?, ?it/s]"
      ]
     },
     "metadata": {},
     "output_type": "display_data"
    },
    {
     "name": "stdout",
     "output_type": "stream",
     "text": [
      "Creating Data/tmdb_api_results2014.json with imdb_id:0\n"
     ]
    },
    {
     "data": {
      "application/vnd.jupyter.widget-view+json": {
       "model_id": "ea2c0c580d0a451aa80fef9ba31ba892",
       "version_major": 2,
       "version_minor": 0
      },
      "text/plain": [
       "Movies from 2014:   0%|          | 0/4771 [00:00<?, ?it/s]"
      ]
     },
     "metadata": {},
     "output_type": "display_data"
    },
    {
     "name": "stdout",
     "output_type": "stream",
     "text": [
      "Creating Data/tmdb_api_results2015.json with imdb_id:0\n"
     ]
    },
    {
     "data": {
      "application/vnd.jupyter.widget-view+json": {
       "model_id": "460b4ac4fd1442faaf699c10c553aa0a",
       "version_major": 2,
       "version_minor": 0
      },
      "text/plain": [
       "Movies from 2015:   0%|          | 0/4934 [00:00<?, ?it/s]"
      ]
     },
     "metadata": {},
     "output_type": "display_data"
    },
    {
     "name": "stdout",
     "output_type": "stream",
     "text": [
      "Creating Data/tmdb_api_results2016.json with imdb_id:0\n"
     ]
    },
    {
     "data": {
      "application/vnd.jupyter.widget-view+json": {
       "model_id": "1a337978d5d6462890df8f1b59631683",
       "version_major": 2,
       "version_minor": 0
      },
      "text/plain": [
       "Movies from 2016:   0%|          | 0/5146 [00:00<?, ?it/s]"
      ]
     },
     "metadata": {},
     "output_type": "display_data"
    },
    {
     "name": "stdout",
     "output_type": "stream",
     "text": [
      "Creating Data/tmdb_api_results2017.json with imdb_id:0\n"
     ]
    },
    {
     "data": {
      "application/vnd.jupyter.widget-view+json": {
       "model_id": "ed527f7ebc4f40018275410b0552cb96",
       "version_major": 2,
       "version_minor": 0
      },
      "text/plain": [
       "Movies from 2017:   0%|          | 0/5509 [00:00<?, ?it/s]"
      ]
     },
     "metadata": {},
     "output_type": "display_data"
    },
    {
     "name": "stdout",
     "output_type": "stream",
     "text": [
      "Creating Data/tmdb_api_results2018.json with imdb_id:0\n"
     ]
    },
    {
     "data": {
      "application/vnd.jupyter.widget-view+json": {
       "model_id": "5bcd07f78505461da6cbd79a5f2f52e9",
       "version_major": 2,
       "version_minor": 0
      },
      "text/plain": [
       "Movies from 2018:   0%|          | 0/5630 [00:00<?, ?it/s]"
      ]
     },
     "metadata": {},
     "output_type": "display_data"
    },
    {
     "name": "stdout",
     "output_type": "stream",
     "text": [
      "Creating Data/tmdb_api_results2019.json with imdb_id:0\n"
     ]
    },
    {
     "data": {
      "application/vnd.jupyter.widget-view+json": {
       "model_id": "2eebee55b2cf469683b5c631c9a4cbc1",
       "version_major": 2,
       "version_minor": 0
      },
      "text/plain": [
       "Movies from 2019:   0%|          | 0/5676 [00:00<?, ?it/s]"
      ]
     },
     "metadata": {},
     "output_type": "display_data"
    },
    {
     "name": "stdout",
     "output_type": "stream",
     "text": [
      "Creating Data/tmdb_api_results2020.json with imdb_id:0\n"
     ]
    },
    {
     "data": {
      "application/vnd.jupyter.widget-view+json": {
       "model_id": "72ad141f9c194fcba26c44c65a3268c4",
       "version_major": 2,
       "version_minor": 0
      },
      "text/plain": [
       "Movies from 2020:   0%|          | 0/4768 [00:00<?, ?it/s]"
      ]
     },
     "metadata": {},
     "output_type": "display_data"
    },
    {
     "name": "stdout",
     "output_type": "stream",
     "text": [
      "Creating Data/tmdb_api_results2021.json with imdb_id:0\n"
     ]
    },
    {
     "data": {
      "application/vnd.jupyter.widget-view+json": {
       "model_id": "8039581aed88401d8b0a2cbbf16118ab",
       "version_major": 2,
       "version_minor": 0
      },
      "text/plain": [
       "Movies from 2021:   0%|          | 0/4719 [00:00<?, ?it/s]"
      ]
     },
     "metadata": {},
     "output_type": "display_data"
    },
    {
     "name": "stdout",
     "output_type": "stream",
     "text": [
      "Creating Data/tmdb_api_results2022.json with imdb_id:0\n"
     ]
    },
    {
     "data": {
      "application/vnd.jupyter.widget-view+json": {
       "model_id": "80f9481e9cb94ce498fe3644a5247301",
       "version_major": 2,
       "version_minor": 0
      },
      "text/plain": [
       "Movies from 2022:   0%|          | 0/1601 [00:00<?, ?it/s]"
      ]
     },
     "metadata": {},
     "output_type": "display_data"
    }
   ],
   "source": [
    "for YEAR in tqdm_notebook(YEARS_TO_GET, desc=\"YEARS\", position=0):\n",
    "    JSON_FILE = f\"{folder}tmdb_api_results{YEAR}.json\"\n",
    "    file_exist = os.path.isfile(JSON_FILE)\n",
    "    \n",
    "    if file_exist == False:\n",
    "        with open(JSON_FILE, \"w\") as f:\n",
    "            json.dump([{\"imdb_id\":0}], f)\n",
    "            \n",
    "        print(f\"Creating {JSON_FILE} with imdb_id:0\")\n",
    "        \n",
    "    else:\n",
    "        print(f\"{JSON_FILE} already exist!\")\n",
    "    \n",
    "    basics = pd.read_csv(\"Data/title_basics.csv.gz\")\n",
    "    df = basics.loc[ basics[\"startYear\"] == YEAR].copy()\n",
    "    movie_ids = df[\"tconst\"].copy()\n",
    "    previous_df = pd.read_json(JSON_FILE)\n",
    "    movie_ids_to_get = movie_ids[~movie_ids.isin(previous_df[\"imdb_id\"])]\n",
    "    \n",
    "    for movie_id in tqdm_notebook(movie_ids_to_get,\n",
    "                                 desc=f\"Movies from {YEAR}\",\n",
    "                                 position=1,\n",
    "                                 leave=True):\n",
    "        try:\n",
    "            temp = get_movie_with_rating(movie_id)\n",
    "            write_json(temp, JSON_FILE)\n",
    "            \n",
    "            time.sleep(0.02)\n",
    "        except Exception as e:\n",
    "                continue"
   ]
  }
 ],
 "metadata": {
  "kernelspec": {
   "display_name": "Python (dojo-env)",
   "language": "python",
   "name": "dojo-env"
  },
  "language_info": {
   "codemirror_mode": {
    "name": "ipython",
    "version": 3
   },
   "file_extension": ".py",
   "mimetype": "text/x-python",
   "name": "python",
   "nbconvert_exporter": "python",
   "pygments_lexer": "ipython3",
   "version": "3.7.12"
  },
  "toc": {
   "base_numbering": 1,
   "nav_menu": {},
   "number_sections": true,
   "sideBar": true,
   "skip_h1_title": false,
   "title_cell": "Table of Contents",
   "title_sidebar": "Contents",
   "toc_cell": false,
   "toc_position": {},
   "toc_section_display": true,
   "toc_window_display": false
  }
 },
 "nbformat": 4,
 "nbformat_minor": 5
}
